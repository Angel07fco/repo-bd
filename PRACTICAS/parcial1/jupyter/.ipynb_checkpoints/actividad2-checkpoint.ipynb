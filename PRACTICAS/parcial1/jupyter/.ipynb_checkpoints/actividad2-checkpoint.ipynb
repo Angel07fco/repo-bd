{
 "cells": [
  {
   "cell_type": "code",
   "execution_count": 1,
   "id": "46f4272d",
   "metadata": {},
   "outputs": [],
   "source": [
    "# Paso 1: Definir una lista y un diccionario vacíos\n",
    "lista = []\n",
    "diccionario = {}"
   ]
  },
  {
   "cell_type": "code",
   "execution_count": 5,
   "id": "12df0c5f",
   "metadata": {},
   "outputs": [],
   "source": [
    "# Paso 2: Definir la función para agregar elementos a la lista\n",
    "def agregar_lista(dato):\n",
    "    lista.append(dato)\n",
    "    print(\"Se agrego correctamente a la lista\")"
   ]
  },
  {
   "cell_type": "code",
   "execution_count": 6,
   "id": "cc1cc8d4",
   "metadata": {},
   "outputs": [],
   "source": [
    "# Paso 3: Definir la función para agregar elementos al diccionario\n",
    "def agregar_diccionario(clave, valor):\n",
    "    diccionario[clave] = valor\n",
    "    print(\"Se agrego correctamente al diccionario\")"
   ]
  },
  {
   "cell_type": "code",
   "execution_count": 9,
   "id": "f42c2d45",
   "metadata": {},
   "outputs": [
    {
     "name": "stdout",
     "output_type": "stream",
     "text": [
      "Se agrego correctamente  18  a la lista\n"
     ]
    }
   ],
   "source": [
    "# Paso 4: Agregar datos a la lista\n",
    "agregar_lista(18)"
   ]
  },
  {
   "cell_type": "code",
   "execution_count": 12,
   "id": "e53e65f0",
   "metadata": {},
   "outputs": [
    {
     "ename": "NameError",
     "evalue": "name 'dato' is not defined",
     "output_type": "error",
     "traceback": [
      "\u001b[1;31m---------------------------------------------------------------------------\u001b[0m",
      "\u001b[1;31mNameError\u001b[0m                                 Traceback (most recent call last)",
      "Cell \u001b[1;32mIn[12], line 2\u001b[0m\n\u001b[0;32m      1\u001b[0m \u001b[38;5;66;03m# Paso 5: Agregar datos al diccionario\u001b[39;00m\n\u001b[1;32m----> 2\u001b[0m \u001b[43magregar_diccionario\u001b[49m\u001b[43m(\u001b[49m\u001b[38;5;124;43m\"\u001b[39;49m\u001b[38;5;124;43medad\u001b[39;49m\u001b[38;5;124;43m\"\u001b[39;49m\u001b[43m,\u001b[49m\u001b[43m \u001b[49m\u001b[38;5;241;43m25\u001b[39;49m\u001b[43m)\u001b[49m\n",
      "Cell \u001b[1;32mIn[6], line 4\u001b[0m, in \u001b[0;36magregar_diccionario\u001b[1;34m(clave, valor)\u001b[0m\n\u001b[0;32m      2\u001b[0m \u001b[38;5;28;01mdef\u001b[39;00m \u001b[38;5;21magregar_diccionario\u001b[39m(clave, valor):\n\u001b[0;32m      3\u001b[0m     diccionario[clave] \u001b[38;5;241m=\u001b[39m valor\n\u001b[1;32m----> 4\u001b[0m     \u001b[38;5;28mprint\u001b[39m(\u001b[38;5;124m\"\u001b[39m\u001b[38;5;124mSe agrego correctamente \u001b[39m\u001b[38;5;124m\"\u001b[39m, \u001b[43mdato\u001b[49m, \u001b[38;5;124m\"\u001b[39m\u001b[38;5;124m al diccionario\u001b[39m\u001b[38;5;124m\"\u001b[39m)\n",
      "\u001b[1;31mNameError\u001b[0m: name 'dato' is not defined"
     ]
    }
   ],
   "source": [
    "# Paso 5: Agregar datos al diccionario\n",
    "agregar_diccionario(\"edad\", 25)"
   ]
  },
  {
   "cell_type": "code",
   "execution_count": 13,
   "id": "ae6689c3",
   "metadata": {},
   "outputs": [
    {
     "name": "stdout",
     "output_type": "stream",
     "text": [
      "Elementos de la lista:\n",
      "10\n",
      "10\n",
      "18\n"
     ]
    }
   ],
   "source": [
    "# Paso 6: Mostrar los elementos de la lista\n",
    "print(\"Elementos de la lista:\")\n",
    "for elemento in lista:\n",
    "    print(elemento)"
   ]
  },
  {
   "cell_type": "code",
   "execution_count": null,
   "id": "d81f3fd5",
   "metadata": {},
   "outputs": [],
   "source": []
  }
 ],
 "metadata": {
  "kernelspec": {
   "display_name": "Python 3 (ipykernel)",
   "language": "python",
   "name": "python3"
  },
  "language_info": {
   "codemirror_mode": {
    "name": "ipython",
    "version": 3
   },
   "file_extension": ".py",
   "mimetype": "text/x-python",
   "name": "python",
   "nbconvert_exporter": "python",
   "pygments_lexer": "ipython3",
   "version": "3.10.9"
  }
 },
 "nbformat": 4,
 "nbformat_minor": 5
}
