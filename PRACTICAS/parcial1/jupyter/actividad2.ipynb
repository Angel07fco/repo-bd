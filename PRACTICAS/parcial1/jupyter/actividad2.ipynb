{
 "cells": [
  {
   "cell_type": "code",
   "execution_count": 14,
   "id": "bc28232e",
   "metadata": {},
   "outputs": [],
   "source": [
    "# Paso 1: Definir la lista y el diccionario\n",
    "lista = []\n",
    "diccionario = {}"
   ]
  },
  {
   "cell_type": "code",
   "execution_count": 15,
   "id": "c789e7e8",
   "metadata": {},
   "outputs": [],
   "source": [
    "# Paso 2: Definir la función para agregar elementos a la lista\n",
    "def agregar_lista(dato):\n",
    "    lista.append(dato)\n",
    "    print(\"Se agrego correctamente a la lista\")"
   ]
  },
  {
   "cell_type": "code",
   "execution_count": 16,
   "id": "9a03c25d",
   "metadata": {},
   "outputs": [],
   "source": [
    "# Paso 3: Definir la función para agregar elementos al diccionario\n",
    "def agregar_diccionario(clave, valor):\n",
    "    diccionario[clave] = valor\n",
    "    print(\"Se agrego correctamente al diccionario\")"
   ]
  },
  {
   "cell_type": "code",
   "execution_count": 21,
   "id": "f96b932e",
   "metadata": {},
   "outputs": [
    {
     "name": "stdout",
     "output_type": "stream",
     "text": [
      "Se agrego correctamente a la lista\n"
     ]
    }
   ],
   "source": [
    "# Paso 4: Agregar datos a la lista\n",
    "agregar_lista(\"Hola\")"
   ]
  },
  {
   "cell_type": "code",
   "execution_count": 18,
   "id": "eb614f30",
   "metadata": {},
   "outputs": [
    {
     "name": "stdout",
     "output_type": "stream",
     "text": [
      "Se agrego correctamente al diccionario\n"
     ]
    }
   ],
   "source": [
    "# Paso 5: Agregar datos al diccionario\n",
    "agregar_diccionario(\"edad\", 25)"
   ]
  },
  {
   "cell_type": "code",
   "execution_count": 22,
   "id": "be2c8f1e",
   "metadata": {},
   "outputs": [
    {
     "name": "stdout",
     "output_type": "stream",
     "text": [
      "Elementos de la lista:\n",
      "18\n",
      "Hola\n"
     ]
    }
   ],
   "source": [
    "# Paso 6: Mostrar los elementos de la lista\n",
    "print(\"Elementos de la lista:\")\n",
    "for elemento in lista:\n",
    "    print(elemento)"
   ]
  },
  {
   "cell_type": "code",
   "execution_count": 20,
   "id": "266ddbe5",
   "metadata": {},
   "outputs": [
    {
     "name": "stdout",
     "output_type": "stream",
     "text": [
      "Elementos del diccionario:\n",
      "edad : 25\n"
     ]
    }
   ],
   "source": [
    "# Paso 7: Mostrar los elementos del diccionario\n",
    "print(\"Elementos del diccionario:\")\n",
    "for clave, valor in diccionario.items():\n",
    "    print(clave, \":\", valor)"
   ]
  },
  {
   "cell_type": "code",
   "execution_count": null,
   "id": "64ec5fbb",
   "metadata": {},
   "outputs": [],
   "source": []
  }
 ],
 "metadata": {
  "kernelspec": {
   "display_name": "Python 3 (ipykernel)",
   "language": "python",
   "name": "python3"
  },
  "language_info": {
   "codemirror_mode": {
    "name": "ipython",
    "version": 3
   },
   "file_extension": ".py",
   "mimetype": "text/x-python",
   "name": "python",
   "nbconvert_exporter": "python",
   "pygments_lexer": "ipython3",
   "version": "3.10.9"
  }
 },
 "nbformat": 4,
 "nbformat_minor": 5
}
